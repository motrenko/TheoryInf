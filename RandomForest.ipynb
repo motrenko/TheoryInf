{
 "cells": [
  {
   "cell_type": "code",
   "execution_count": 29,
   "metadata": {},
   "outputs": [],
   "source": [
    "import pandas as pd\n",
    "\n",
    "from pathlib import Path\n",
    "from sklearn.ensemble import RandomForestClassifier\n",
    "from sklearn.model_selection import cross_val_score\n",
    "from sklearn.model_selection import GridSearchCV"
   ]
  },
  {
   "cell_type": "code",
   "execution_count": 30,
   "metadata": {},
   "outputs": [],
   "source": [
    "tr_name = Path(\"transport_data.csv\")\n",
    "tr_path = Path(\"./data\")/tr_name"
   ]
  },
  {
   "cell_type": "code",
   "execution_count": 31,
   "metadata": {},
   "outputs": [],
   "source": [
    "tr_data = pd.read_csv(tr_path)"
   ]
  },
  {
   "cell_type": "code",
   "execution_count": 32,
   "metadata": {},
   "outputs": [
    {
     "name": "stdout",
     "output_type": "stream",
     "text": [
      "<class 'pandas.core.frame.DataFrame'>\n",
      "RangeIndex: 58665 entries, 0 to 58664\n",
      "Data columns (total 5 columns):\n",
      "log           58665 non-null float64\n",
      "lat           58665 non-null float64\n",
      "request_ts    58665 non-null int64\n",
      "trans_ts      58665 non-null int64\n",
      "label         58665 non-null object\n",
      "dtypes: float64(2), int64(2), object(1)\n",
      "memory usage: 2.2+ MB\n"
     ]
    }
   ],
   "source": [
    "tr_data.info()"
   ]
  },
  {
   "cell_type": "code",
   "execution_count": 33,
   "metadata": {},
   "outputs": [
    {
     "data": {
      "text/html": [
       "<div>\n",
       "<style scoped>\n",
       "    .dataframe tbody tr th:only-of-type {\n",
       "        vertical-align: middle;\n",
       "    }\n",
       "\n",
       "    .dataframe tbody tr th {\n",
       "        vertical-align: top;\n",
       "    }\n",
       "\n",
       "    .dataframe thead th {\n",
       "        text-align: right;\n",
       "    }\n",
       "</style>\n",
       "<table border=\"1\" class=\"dataframe\">\n",
       "  <thead>\n",
       "    <tr style=\"text-align: right;\">\n",
       "      <th></th>\n",
       "      <th>log</th>\n",
       "      <th>lat</th>\n",
       "      <th>request_ts</th>\n",
       "      <th>trans_ts</th>\n",
       "      <th>label</th>\n",
       "    </tr>\n",
       "  </thead>\n",
       "  <tbody>\n",
       "    <tr>\n",
       "      <th>0</th>\n",
       "      <td>30.295780</td>\n",
       "      <td>59.932167</td>\n",
       "      <td>1511956827</td>\n",
       "      <td>1511956594</td>\n",
       "      <td>0</td>\n",
       "    </tr>\n",
       "    <tr>\n",
       "      <th>1</th>\n",
       "      <td>30.219528</td>\n",
       "      <td>59.954617</td>\n",
       "      <td>1511956827</td>\n",
       "      <td>1511956746</td>\n",
       "      <td>-</td>\n",
       "    </tr>\n",
       "    <tr>\n",
       "      <th>2</th>\n",
       "      <td>30.409101</td>\n",
       "      <td>59.931679</td>\n",
       "      <td>1511956827</td>\n",
       "      <td>1511956747</td>\n",
       "      <td>-</td>\n",
       "    </tr>\n",
       "    <tr>\n",
       "      <th>3</th>\n",
       "      <td>30.293602</td>\n",
       "      <td>59.938892</td>\n",
       "      <td>1511956827</td>\n",
       "      <td>1511956759</td>\n",
       "      <td>-</td>\n",
       "    </tr>\n",
       "    <tr>\n",
       "      <th>4</th>\n",
       "      <td>30.360102</td>\n",
       "      <td>59.931103</td>\n",
       "      <td>1511956827</td>\n",
       "      <td>1511956767</td>\n",
       "      <td>-</td>\n",
       "    </tr>\n",
       "  </tbody>\n",
       "</table>\n",
       "</div>"
      ],
      "text/plain": [
       "         log        lat  request_ts    trans_ts label\n",
       "0  30.295780  59.932167  1511956827  1511956594     0\n",
       "1  30.219528  59.954617  1511956827  1511956746     -\n",
       "2  30.409101  59.931679  1511956827  1511956747     -\n",
       "3  30.293602  59.938892  1511956827  1511956759     -\n",
       "4  30.360102  59.931103  1511956827  1511956767     -"
      ]
     },
     "execution_count": 33,
     "metadata": {},
     "output_type": "execute_result"
    }
   ],
   "source": [
    "tr_data.head()"
   ]
  },
  {
   "cell_type": "code",
   "execution_count": 34,
   "metadata": {},
   "outputs": [],
   "source": [
    "tr_data.drop(tr_data.index[tr_data.label == '-'].tolist(), axis=0, inplace=True)\n",
    "tr_data.trans_ts = pd.to_datetime(tr_data.trans_ts, unit='s')\n",
    "tr_data.request_ts = pd.to_datetime(tr_data.request_ts, unit='s')\n",
    "\n",
    "tr_data['second_trans_ts'] = tr_data.trans_ts.dt.second\n",
    "tr_data['minute_trans_ts'] = tr_data.trans_ts.dt.minute\n",
    "tr_data['hour_trans_ts'] = tr_data.trans_ts.dt.hour\n",
    "tr_data['dayofweek_trans_ts'] = tr_data.trans_ts.dt.dayofweek\n",
    "tr_data.drop('trans_ts', axis=1, inplace=True)\n",
    "\n",
    "tr_data.drop('request_ts', axis=1, inplace=True)"
   ]
  },
  {
   "cell_type": "code",
   "execution_count": 35,
   "metadata": {},
   "outputs": [
    {
     "data": {
      "text/html": [
       "<div>\n",
       "<style scoped>\n",
       "    .dataframe tbody tr th:only-of-type {\n",
       "        vertical-align: middle;\n",
       "    }\n",
       "\n",
       "    .dataframe tbody tr th {\n",
       "        vertical-align: top;\n",
       "    }\n",
       "\n",
       "    .dataframe thead th {\n",
       "        text-align: right;\n",
       "    }\n",
       "</style>\n",
       "<table border=\"1\" class=\"dataframe\">\n",
       "  <thead>\n",
       "    <tr style=\"text-align: right;\">\n",
       "      <th></th>\n",
       "      <th>log</th>\n",
       "      <th>lat</th>\n",
       "      <th>second_trans_ts</th>\n",
       "      <th>minute_trans_ts</th>\n",
       "      <th>hour_trans_ts</th>\n",
       "      <th>dayofweek_trans_ts</th>\n",
       "    </tr>\n",
       "  </thead>\n",
       "  <tbody>\n",
       "    <tr>\n",
       "      <th>11</th>\n",
       "      <td>30.359190</td>\n",
       "      <td>59.931217</td>\n",
       "      <td>47</td>\n",
       "      <td>59</td>\n",
       "      <td>11</td>\n",
       "      <td>2</td>\n",
       "    </tr>\n",
       "    <tr>\n",
       "      <th>18</th>\n",
       "      <td>30.355488</td>\n",
       "      <td>59.931679</td>\n",
       "      <td>11</td>\n",
       "      <td>0</td>\n",
       "      <td>12</td>\n",
       "      <td>2</td>\n",
       "    </tr>\n",
       "    <tr>\n",
       "      <th>41</th>\n",
       "      <td>30.312258</td>\n",
       "      <td>59.937222</td>\n",
       "      <td>45</td>\n",
       "      <td>1</td>\n",
       "      <td>12</td>\n",
       "      <td>2</td>\n",
       "    </tr>\n",
       "    <tr>\n",
       "      <th>42</th>\n",
       "      <td>30.367332</td>\n",
       "      <td>59.931988</td>\n",
       "      <td>47</td>\n",
       "      <td>1</td>\n",
       "      <td>12</td>\n",
       "      <td>2</td>\n",
       "    </tr>\n",
       "    <tr>\n",
       "      <th>56</th>\n",
       "      <td>30.329239</td>\n",
       "      <td>59.934929</td>\n",
       "      <td>47</td>\n",
       "      <td>2</td>\n",
       "      <td>12</td>\n",
       "      <td>2</td>\n",
       "    </tr>\n",
       "  </tbody>\n",
       "</table>\n",
       "</div>"
      ],
      "text/plain": [
       "          log        lat  second_trans_ts  minute_trans_ts  hour_trans_ts  \\\n",
       "11  30.359190  59.931217               47               59             11   \n",
       "18  30.355488  59.931679               11                0             12   \n",
       "41  30.312258  59.937222               45                1             12   \n",
       "42  30.367332  59.931988               47                1             12   \n",
       "56  30.329239  59.934929               47                2             12   \n",
       "\n",
       "    dayofweek_trans_ts  \n",
       "11                   2  \n",
       "18                   2  \n",
       "41                   2  \n",
       "42                   2  \n",
       "56                   2  "
      ]
     },
     "execution_count": 35,
     "metadata": {},
     "output_type": "execute_result"
    }
   ],
   "source": [
    "target = tr_data[tr_data.label == '?'].drop('label', axis=1)\n",
    "target.head()"
   ]
  },
  {
   "cell_type": "code",
   "execution_count": 36,
   "metadata": {
    "scrolled": false
   },
   "outputs": [
    {
     "data": {
      "text/html": [
       "<div>\n",
       "<style scoped>\n",
       "    .dataframe tbody tr th:only-of-type {\n",
       "        vertical-align: middle;\n",
       "    }\n",
       "\n",
       "    .dataframe tbody tr th {\n",
       "        vertical-align: top;\n",
       "    }\n",
       "\n",
       "    .dataframe thead th {\n",
       "        text-align: right;\n",
       "    }\n",
       "</style>\n",
       "<table border=\"1\" class=\"dataframe\">\n",
       "  <thead>\n",
       "    <tr style=\"text-align: right;\">\n",
       "      <th></th>\n",
       "      <th>log</th>\n",
       "      <th>lat</th>\n",
       "      <th>label</th>\n",
       "      <th>second_trans_ts</th>\n",
       "      <th>minute_trans_ts</th>\n",
       "      <th>hour_trans_ts</th>\n",
       "      <th>dayofweek_trans_ts</th>\n",
       "    </tr>\n",
       "  </thead>\n",
       "  <tbody>\n",
       "    <tr>\n",
       "      <th>0</th>\n",
       "      <td>30.295780</td>\n",
       "      <td>59.932167</td>\n",
       "      <td>0</td>\n",
       "      <td>34</td>\n",
       "      <td>56</td>\n",
       "      <td>11</td>\n",
       "      <td>2</td>\n",
       "    </tr>\n",
       "    <tr>\n",
       "      <th>1</th>\n",
       "      <td>30.385973</td>\n",
       "      <td>59.944260</td>\n",
       "      <td>0</td>\n",
       "      <td>42</td>\n",
       "      <td>59</td>\n",
       "      <td>11</td>\n",
       "      <td>2</td>\n",
       "    </tr>\n",
       "  </tbody>\n",
       "</table>\n",
       "</div>"
      ],
      "text/plain": [
       "         log        lat label  second_trans_ts  minute_trans_ts  \\\n",
       "0  30.295780  59.932167     0               34               56   \n",
       "1  30.385973  59.944260     0               42               59   \n",
       "\n",
       "   hour_trans_ts  dayofweek_trans_ts  \n",
       "0             11                   2  \n",
       "1             11                   2  "
      ]
     },
     "execution_count": 36,
     "metadata": {},
     "output_type": "execute_result"
    }
   ],
   "source": [
    "tr_data.drop(tr_data.index[tr_data.label == '?'].tolist(), axis=0, inplace=True)\n",
    "tr_data.index = range(len(tr_data))\n",
    "tr_data.head(2)"
   ]
  },
  {
   "cell_type": "code",
   "execution_count": 40,
   "metadata": {},
   "outputs": [],
   "source": [
    "model = RandomForestClassifier(n_estimators=500, max_depth=100, random_state=8)"
   ]
  },
  {
   "cell_type": "code",
   "execution_count": 41,
   "metadata": {},
   "outputs": [
    {
     "data": {
      "text/plain": [
       "RandomForestClassifier(bootstrap=True, class_weight=None, criterion='gini',\n",
       "            max_depth=2000, max_features='auto', max_leaf_nodes=None,\n",
       "            min_impurity_decrease=0.0, min_impurity_split=None,\n",
       "            min_samples_leaf=1, min_samples_split=2,\n",
       "            min_weight_fraction_leaf=0.0, n_estimators=1000, n_jobs=None,\n",
       "            oob_score=False, random_state=8, verbose=0, warm_start=False)"
      ]
     },
     "execution_count": 41,
     "metadata": {},
     "output_type": "execute_result"
    }
   ],
   "source": [
    "model.fit(X = tr_data.drop(['label'], axis=1), y = tr_data.label)"
   ]
  },
  {
   "cell_type": "code",
   "execution_count": 42,
   "metadata": {},
   "outputs": [
    {
     "data": {
      "text/plain": [
       "0.4178879848969962"
      ]
     },
     "execution_count": 42,
     "metadata": {},
     "output_type": "execute_result"
    }
   ],
   "source": [
    "cross_val_score(model, tr_data.drop(['label'], axis=1), tr_data.label, cv=5).mean()"
   ]
  },
  {
   "cell_type": "code",
   "execution_count": 27,
   "metadata": {},
   "outputs": [],
   "source": [
    "preds = model.predict(target)"
   ]
  },
  {
   "cell_type": "code",
   "execution_count": 28,
   "metadata": {},
   "outputs": [],
   "source": [
    "with open('random_forest.txt', 'w') as f:\n",
    "    for p in preds:\n",
    "        f.write(p + \"\\n\")"
   ]
  },
  {
   "cell_type": "code",
   "execution_count": null,
   "metadata": {},
   "outputs": [],
   "source": []
  },
  {
   "cell_type": "code",
   "execution_count": null,
   "metadata": {},
   "outputs": [],
   "source": []
  }
 ],
 "metadata": {
  "kernelspec": {
   "display_name": "Python 3",
   "language": "python",
   "name": "python3"
  },
  "language_info": {
   "codemirror_mode": {
    "name": "ipython",
    "version": 3
   },
   "file_extension": ".py",
   "mimetype": "text/x-python",
   "name": "python",
   "nbconvert_exporter": "python",
   "pygments_lexer": "ipython3",
   "version": "3.7.3"
  }
 },
 "nbformat": 4,
 "nbformat_minor": 2
}
